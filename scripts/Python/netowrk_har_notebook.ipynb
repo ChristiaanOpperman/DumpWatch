{
 "cells": [
  {
   "cell_type": "code",
   "execution_count": 11,
   "id": "36ed76eb",
   "metadata": {},
   "outputs": [
    {
     "name": "stdout",
     "output_type": "stream",
     "text": [
      "                                                 URL   Method  Status  \\\n",
      "0                        http://localhost:8080/login  OPTIONS     200   \n",
      "1                        http://localhost:8080/login  OPTIONS     200   \n",
      "2  https://cdn.jsdelivr.net/npm/browser-image-com...      GET     200   \n",
      "3              http://127.0.0.1:23119/connector/ping     POST       0   \n",
      "4              http://127.0.0.1:23119/connector/ping     POST       0   \n",
      "\n",
      "   Size (KB)  Time (ms)            Content Type  \n",
      "0  -0.223633      0.959               x-unknown  \n",
      "1  -0.223633      0.655               x-unknown  \n",
      "2   0.000000      1.908  application/javascript  \n",
      "3  -0.000977      0.000               x-unknown  \n",
      "4  -0.000977      0.000               x-unknown  \n",
      "Network statistics saved to network_stats.csv\n"
     ]
    }
   ],
   "source": [
    "import json\n",
    "import pandas as pd\n",
    "import matplotlib.pyplot as plt\n",
    "\n",
    "# Load the HAR file\n",
    "with open('network.har', 'r', encoding='utf-8') as file:\n",
    "    har_data = json.load(file)\n",
    "\n",
    "# Extract entries\n",
    "entries = har_data.get('log', {}).get('entries', [])\n",
    "\n",
    "# Convert to DataFrame\n",
    "data = []\n",
    "for entry in entries:\n",
    "    request = entry.get(\"request\", {})\n",
    "    response = entry.get(\"response\", {})\n",
    "    timings = entry.get(\"timings\", {})\n",
    "\n",
    "    data.append({\n",
    "        \"URL\": request.get(\"url\", \"Unknown\"),\n",
    "        \"Method\": request.get(\"method\", \"Unknown\"),\n",
    "        \"Status\": response.get(\"status\", \"Unknown\"),\n",
    "        \"Size (KB)\": response.get(\"bodySize\", 0) / 1024,  # Convert bytes to KB\n",
    "        \"Time (ms)\": timings.get(\"wait\", 0),  # Time taken\n",
    "        \"Content Type\": response.get(\"content\", {}).get(\"mimeType\", \"Unknown\"),\n",
    "    })\n",
    "\n",
    "df = pd.DataFrame(data)\n",
    "\n",
    "# Remove empty rows or irrelevant ping requests\n",
    "df = df[df[\"URL\"] != \"Unknown\"]\n",
    "\n",
    "# Display first few rows\n",
    "print(df.head())\n",
    "\n",
    "# Save to CSV for analysis\n",
    "df.to_csv(\"network_stats.csv\", index=False)\n",
    "print(\"Network statistics saved to network_stats.csv\")\n"
   ]
  },
  {
   "cell_type": "code",
   "execution_count": null,
   "id": "75420dde",
   "metadata": {},
   "outputs": [],
   "source": []
  }
 ],
 "metadata": {
  "kernelspec": {
   "display_name": "Python 3 (ipykernel)",
   "language": "python",
   "name": "python3"
  },
  "language_info": {
   "codemirror_mode": {
    "name": "ipython",
    "version": 3
   },
   "file_extension": ".py",
   "mimetype": "text/x-python",
   "name": "python",
   "nbconvert_exporter": "python",
   "pygments_lexer": "ipython3",
   "version": "3.10.9"
  }
 },
 "nbformat": 4,
 "nbformat_minor": 5
}
